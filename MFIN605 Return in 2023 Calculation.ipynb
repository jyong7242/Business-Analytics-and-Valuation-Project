{
 "cells": [
  {
   "metadata": {
    "ExecuteTime": {
     "end_time": "2024-12-03T00:22:51.567009Z",
     "start_time": "2024-12-03T00:22:51.172493Z"
    }
   },
   "cell_type": "code",
   "source": [
    "import pytz as tz\n",
    "import yfinance as yf\n",
    "import pandas as pd \n",
    "from datetime import datetime\n"
   ],
   "id": "8d872d0b8ce9a4a0",
   "outputs": [],
   "execution_count": 1
  },
  {
   "metadata": {
    "ExecuteTime": {
     "end_time": "2024-12-03T00:22:51.572297Z",
     "start_time": "2024-12-03T00:22:51.569997Z"
    }
   },
   "cell_type": "code",
   "source": [
    "portfolio = {\n",
    "    'CPE.N': {'ticker': 'CEIX', 'weight': 0.27},\n",
    "    'HLX.N': {'ticker': 'HP', 'weight': 0.12},\n",
    "    'DINO.N': {'ticker': 'LPG', 'weight': 0.22},\n",
    "    'MTDR.N': {'ticker': 'MTDR', 'weight': 0.13},\n",
    "    'MUR.N': {'ticker': 'MUR', 'weight': 0.14},\n",
    "    'SWN.N': {'ticker': 'SM', 'weight': 0.12}\n",
    "}\n",
    "\n",
    "# Define benchmark (e.g., S&P 500)\n",
    "benchmark_ticker = \"^GSPC\"  # S&P 500 Index\n",
    "\n",
    "# Define the timezone\n",
    "tz = tz.UTC\n",
    "\n",
    "# Define 2023 time period (timezone-naive)\n",
    "start_2023 = datetime(2023, 1, 1)\n",
    "end_2023 = datetime(2023, 12, 31)\n"
   ],
   "id": "ee419fef5f43bfa2",
   "outputs": [],
   "execution_count": 2
  },
  {
   "metadata": {
    "ExecuteTime": {
     "end_time": "2024-12-03T00:22:51.948742Z",
     "start_time": "2024-12-03T00:22:51.651755Z"
    }
   },
   "cell_type": "code",
   "source": [
    "# Download stock and benchmark data for 2023\n",
    "tickers = [info['ticker'] for info in portfolio.values()]\n",
    "all_tickers = tickers + [benchmark_ticker]\n",
    "\n",
    "data_2023 = yf.download(all_tickers, start=start_2023.strftime('%Y-%m-%d'), end=end_2023.strftime('%Y-%m-%d'))['Adj Close']\n"
   ],
   "id": "c9054e440335cd3f",
   "outputs": [
    {
     "name": "stderr",
     "output_type": "stream",
     "text": [
      "[*********************100%***********************]  7 of 7 completed\n"
     ]
    }
   ],
   "execution_count": 3
  },
  {
   "metadata": {
    "ExecuteTime": {
     "end_time": "2024-12-03T00:22:51.956577Z",
     "start_time": "2024-12-03T00:22:51.954656Z"
    }
   },
   "cell_type": "code",
   "source": [
    "# Calculate 2023 returns for each stock\n",
    "returns_2023 = (data_2023.iloc[-1] / data_2023.iloc[0]) - 1\n"
   ],
   "id": "6cd81caa0fb05b2a",
   "outputs": [],
   "execution_count": 4
  },
  {
   "metadata": {
    "ExecuteTime": {
     "end_time": "2024-12-03T00:22:51.963470Z",
     "start_time": "2024-12-03T00:22:51.961488Z"
    }
   },
   "cell_type": "code",
   "source": [
    "# Create the weights Series\n",
    "weights = pd.Series(\n",
    "    {info['ticker']: info['weight'] for info in portfolio.values()}\n",
    ")\n",
    "\n",
    "# Align weights with the stock tickers in the returns DataFrame\n",
    "weights = weights.reindex(returns_2023.index)\n"
   ],
   "id": "3c4f5abf665aa48f",
   "outputs": [],
   "execution_count": 5
  },
  {
   "metadata": {
    "ExecuteTime": {
     "end_time": "2024-12-03T00:22:51.971148Z",
     "start_time": "2024-12-03T00:22:51.968649Z"
    }
   },
   "cell_type": "code",
   "source": [
    "# Calculate portfolio return for 2023\n",
    "portfolio_return_2023 = (returns_2023[tickers] * weights).sum()\n"
   ],
   "id": "e6530dadd9647975",
   "outputs": [],
   "execution_count": 6
  },
  {
   "metadata": {
    "ExecuteTime": {
     "end_time": "2024-12-03T00:22:51.978004Z",
     "start_time": "2024-12-03T00:22:51.976012Z"
    }
   },
   "cell_type": "code",
   "source": [
    "# Display results\n",
    "print(\"Individual Stock Returns for 2023:\")\n",
    "print(returns_2023[tickers])\n",
    "\n",
    "print(\"\\nPortfolio Return for 2023:\")\n",
    "print(portfolio_return_2023)\n"
   ],
   "id": "9e5df69b968a3e7c",
   "outputs": [
    {
     "name": "stdout",
     "output_type": "stream",
     "text": [
      "Individual Stock Returns for 2023:\n",
      "Ticker\n",
      "CEIX    0.790871\n",
      "HP     -0.175184\n",
      "LPG     1.832227\n",
      "MTDR    0.082883\n",
      "MUR     0.080323\n",
      "SM      0.232181\n",
      "dtype: float64\n",
      "\n",
      "Portfolio Return for 2023:\n",
      "0.6454849541490792\n"
     ]
    }
   ],
   "execution_count": 7
  }
 ],
 "metadata": {
  "kernelspec": {
   "display_name": "Python 3",
   "language": "python",
   "name": "python3"
  },
  "language_info": {
   "codemirror_mode": {
    "name": "ipython",
    "version": 2
   },
   "file_extension": ".py",
   "mimetype": "text/x-python",
   "name": "python",
   "nbconvert_exporter": "python",
   "pygments_lexer": "ipython2",
   "version": "2.7.6"
  }
 },
 "nbformat": 4,
 "nbformat_minor": 5
}
