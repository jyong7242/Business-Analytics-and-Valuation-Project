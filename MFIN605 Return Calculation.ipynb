{
 "cells": [
  {
   "metadata": {
    "ExecuteTime": {
     "end_time": "2024-12-03T01:13:29.241685Z",
     "start_time": "2024-12-03T01:13:28.596326Z"
    }
   },
   "cell_type": "code",
   "source": "!pip install numpy pytz",
   "id": "6472087103adb76c",
   "outputs": [
    {
     "name": "stdout",
     "output_type": "stream",
     "text": [
      "Requirement already satisfied: numpy in /Library/Frameworks/Python.framework/Versions/3.13/lib/python3.13/site-packages (2.1.3)\r\n",
      "Requirement already satisfied: pytz in /Library/Frameworks/Python.framework/Versions/3.13/lib/python3.13/site-packages (2024.2)\r\n"
     ]
    }
   ],
   "execution_count": 191
  },
  {
   "metadata": {
    "ExecuteTime": {
     "end_time": "2024-12-03T01:13:29.250552Z",
     "start_time": "2024-12-03T01:13:29.247265Z"
    }
   },
   "cell_type": "code",
   "source": [
    "import pytz as tz\n",
    "import yfinance as yf\n",
    "import pandas as pd \n",
    "from datetime import datetime, timedelta"
   ],
   "id": "9e996bcf5df69089",
   "outputs": [],
   "execution_count": 192
  },
  {
   "metadata": {
    "ExecuteTime": {
     "end_time": "2024-12-03T01:13:29.273431Z",
     "start_time": "2024-12-03T01:13:29.271134Z"
    }
   },
   "cell_type": "code",
   "source": [
    "portfolio = {\n",
    "    'CPE.N': {'ticker': 'CEIX', 'weight': 0.27},\n",
    "    'HLX.N': {'ticker': 'HP', 'weight': 0.12},\n",
    "    'DINO.N': {'ticker': 'LPG', 'weight': 0.22},\n",
    "    'MTDR.N': {'ticker': 'MTDR', 'weight': 0.13},\n",
    "    'MUR.N': {'ticker': 'MUR', 'weight': 0.14},\n",
    "    'SWN.N': {'ticker': 'SM', 'weight': 0.12}\n",
    "}\n",
    "\n",
    "# Define benchmark (e.g., S&P 500)\n",
    "benchmark_ticker = \"^GSPC\"  # S&P 500 Index"
   ],
   "id": "b1573d8428088893",
   "outputs": [],
   "execution_count": 193
  },
  {
   "metadata": {
    "ExecuteTime": {
     "end_time": "2024-12-03T01:13:29.284490Z",
     "start_time": "2024-12-03T01:13:29.282785Z"
    }
   },
   "cell_type": "code",
   "source": [
    "# Define the timezone\n",
    "tz = tz.UTC\n",
    "# Make time periods timezone-aware\n",
    "one_month_ago = tz.localize(datetime(2024, 10, 1))\n",
    "ytd_start = tz.localize(datetime(2024, 1, 1))\n",
    "twelve_months_ago = tz.localize(datetime(2023, 11, 1))\n",
    "today = tz.localize(datetime(2024, 11, 1))\n"
   ],
   "id": "688f2b55ce26e302",
   "outputs": [],
   "execution_count": 194
  },
  {
   "metadata": {
    "ExecuteTime": {
     "end_time": "2024-12-03T01:13:29.345856Z",
     "start_time": "2024-12-03T01:13:29.294144Z"
    }
   },
   "cell_type": "code",
   "source": [
    "# Download stock and benchmark data\n",
    "tickers = [info['ticker'] for info in portfolio.values()]\n",
    "all_tickers = tickers + [benchmark_ticker]\n",
    "\n",
    "data = yf.download(all_tickers, start=twelve_months_ago.strftime('%Y-%m-%d'), end=today.strftime('%Y-%m-%d'))['Adj Close']"
   ],
   "id": "7438d8775b5a91aa",
   "outputs": [
    {
     "name": "stderr",
     "output_type": "stream",
     "text": [
      "[*********************100%***********************]  7 of 7 completed\n"
     ]
    }
   ],
   "execution_count": 195
  },
  {
   "metadata": {
    "ExecuteTime": {
     "end_time": "2024-12-03T01:13:29.359888Z",
     "start_time": "2024-12-03T01:13:29.353869Z"
    }
   },
   "cell_type": "code",
   "source": [
    "# Calculate returns\n",
    "returns = pd.DataFrame(index=tickers)\n",
    "\n",
    "# 1M returns\n",
    "returns['1M'] = data.loc[one_month_ago:].pct_change().iloc[1:].sum()\n",
    "\n",
    "# YTD returns\n",
    "returns['YTD'] = data.loc[ytd_start:].pct_change().iloc[1:].sum()\n",
    "\n",
    "# 12M returns\n",
    "returns['12M'] = data.pct_change(periods=len(data) - 1).iloc[-1]\n",
    "\n",
    "# Benchmark returns\n",
    "benchmark_returns = pd.Series({\n",
    "    '1M': data[benchmark_ticker].loc[one_month_ago:].pct_change().iloc[1:].sum(),\n",
    "    'YTD': data[benchmark_ticker].loc[ytd_start:].pct_change().iloc[1:].sum(),\n",
    "    '12M': data[benchmark_ticker].pct_change(periods=len(data) - 1).iloc[-1]\n",
    "})"
   ],
   "id": "2803351e8b2b7cc1",
   "outputs": [],
   "execution_count": 196
  },
  {
   "metadata": {
    "ExecuteTime": {
     "end_time": "2024-12-03T01:13:29.368927Z",
     "start_time": "2024-12-03T01:13:29.366991Z"
    }
   },
   "cell_type": "code",
   "source": [
    "# Excess returns (stock returns - benchmark returns)\n",
    "returns['1M_Excess'] = returns['1M'] - benchmark_returns['1M']\n",
    "returns['YTD_Excess'] = returns['YTD'] - benchmark_returns['YTD']\n",
    "returns['12M_Excess'] = returns['12M'] - benchmark_returns['12M']"
   ],
   "id": "55605b38330ca375",
   "outputs": [],
   "execution_count": 197
  },
  {
   "metadata": {
    "ExecuteTime": {
     "end_time": "2024-12-03T01:13:29.379846Z",
     "start_time": "2024-12-03T01:13:29.376972Z"
    }
   },
   "cell_type": "code",
   "source": [
    "# Assuming Risk-Free Rate is 0.0428 (1 yr treasury bond)\n",
    "risk_free_rate = 0.0428\n",
    "\n",
    "# Abnormal returns (using CAPM: Return - (Risk-Free Rate + Beta * Market Excess Return))\n",
    "# Here, we assume a beta of 1 for simplicity. Adjust based on your analysis.\n",
    "returns['1M_Abnormal'] = returns['1M'] - (risk_free_rate + 1 * benchmark_returns['1M'])\n",
    "returns['YTD_Abnormal'] = returns['YTD'] - (risk_free_rate + 1 * benchmark_returns['YTD'])\n",
    "returns['12M_Abnormal'] = returns['12M'] - (risk_free_rate + 1 * benchmark_returns['12M'])"
   ],
   "id": "8de53edcb607600c",
   "outputs": [],
   "execution_count": 198
  },
  {
   "metadata": {
    "ExecuteTime": {
     "end_time": "2024-12-03T01:13:29.390521Z",
     "start_time": "2024-12-03T01:13:29.387382Z"
    }
   },
   "cell_type": "code",
   "source": [
    "# Create the weights Series\n",
    "weights = pd.Series(\n",
    "    {info['ticker']: info['weight'] for info in portfolio.values()}\n",
    ")\n",
    "\n",
    "\n",
    "# Align weights with the stock tickers in the returns DataFrame\n",
    "weights = weights.reindex(returns.index)\n",
    "\n",
    "\n",
    "# Multiply the returns by weights and sum for portfolio-level returns\n",
    "portfolio_returns = (returns[['1M', 'YTD', '12M']].mul(weights, axis=0)).sum()\n"
   ],
   "id": "d96f849cba3e8e76",
   "outputs": [],
   "execution_count": 199
  },
  {
   "metadata": {
    "ExecuteTime": {
     "end_time": "2024-12-03T01:13:29.403158Z",
     "start_time": "2024-12-03T01:13:29.400429Z"
    }
   },
   "cell_type": "code",
   "source": [
    "# Display results\n",
    "print(\"Individual Stock Returns:\")\n",
    "print(returns)\n",
    "\n",
    "print(\"\\nPortfolio Returns:\")\n",
    "print(portfolio_returns)"
   ],
   "id": "20e976c0e2702ac9",
   "outputs": [
    {
     "name": "stdout",
     "output_type": "stream",
     "text": [
      "Individual Stock Returns:\n",
      "            1M       YTD       12M  1M_Excess  YTD_Excess  12M_Excess  \\\n",
      "CEIX  0.076528  0.159273  0.152982   0.076617   -0.032114   -0.193323   \n",
      "HP    0.067684  0.010787 -0.104636   0.067773   -0.180600   -0.450941   \n",
      "LPG  -0.214812 -0.277087 -0.103133  -0.214724   -0.468474   -0.449437   \n",
      "MTDR  0.037378 -0.042998 -0.132684   0.037467   -0.234385   -0.478989   \n",
      "MUR  -0.087374 -0.252585 -0.276711  -0.087285   -0.443972   -0.623015   \n",
      "SM    0.025924  0.151362  0.079083   0.026013   -0.040025   -0.267222   \n",
      "\n",
      "      1M_Abnormal  YTD_Abnormal  12M_Abnormal  \n",
      "CEIX     0.033817     -0.074914     -0.236123  \n",
      "HP       0.024973     -0.223400     -0.493741  \n",
      "LPG     -0.257524     -0.511274     -0.492237  \n",
      "MTDR    -0.005333     -0.277185     -0.521789  \n",
      "MUR     -0.130085     -0.486772     -0.665815  \n",
      "SM      -0.016787     -0.082825     -0.310022  \n",
      "\n",
      "Portfolio Returns:\n",
      "1M    -0.022736\n",
      "YTD   -0.039449\n",
      "12M   -0.040439\n",
      "dtype: float64\n"
     ]
    }
   ],
   "execution_count": 200
  },
  {
   "metadata": {
    "ExecuteTime": {
     "end_time": "2024-12-03T01:13:29.441400Z",
     "start_time": "2024-12-03T01:13:29.411941Z"
    }
   },
   "cell_type": "code",
   "source": [
    "# Save individual stock returns to Excel\n",
    "returns.to_excel('individual_stock_returns.xlsx', sheet_name='Stock Returns')\n",
    "\n",
    "# Save portfolio returns to Excel\n",
    "portfolio_returns.to_frame(name='Portfolio Returns').to_excel('portfolio_returns.xlsx', sheet_name='Portfolio Returns')\n",
    "\n",
    "print(\"Results saved to Excel files:\")\n",
    "print(\"1. Individual stock returns saved as 'individual_stock_returns.xlsx'\")\n",
    "print(\"2. Portfolio returns saved as 'portfolio_returns.xlsx'\")"
   ],
   "id": "a8b50e6d9ec84fcb",
   "outputs": [
    {
     "name": "stdout",
     "output_type": "stream",
     "text": [
      "Results saved to Excel files:\n",
      "1. Individual stock returns saved as 'individual_stock_returns.xlsx'\n",
      "2. Portfolio returns saved as 'portfolio_returns.xlsx'\n"
     ]
    }
   ],
   "execution_count": 201
  },
  {
   "cell_type": "code",
   "id": "initial_id",
   "metadata": {
    "collapsed": true,
    "ExecuteTime": {
     "end_time": "2024-12-03T01:14:46.020307Z",
     "start_time": "2024-12-03T01:14:45.918169Z"
    }
   },
   "source": [
    "# Calculate Standard Deviation\n",
    "# Define the stocks\n",
    "tickers = [\"MUR\", \"CEIX\", \"LPG\", \"SM\", \"MTDR\", \"HP\"]\n",
    "\n",
    "# Define the time periods\n",
    "end_date = \"2024-11-01\"  # Fixed end date\n",
    "six_months_ago = (datetime.strptime(end_date, \"%Y-%m-%d\") - timedelta(days=6 * 30)).strftime(\"%Y-%m-%d\")  # Approx 6 months\n",
    "twelve_months_ago = (datetime.strptime(end_date, \"%Y-%m-%d\") - timedelta(days=12 * 30)).strftime(\"%Y-%m-%d\")  # Approx 12 months\n",
    "\n",
    "# Download data for 6 months\n",
    "data_6m = yf.download(tickers, start=six_months_ago, end=end_date)[\"Adj Close\"]\n",
    "\n",
    "# Download data for 12 months\n",
    "data_12m = yf.download(tickers, start=twelve_months_ago, end=end_date)[\"Adj Close\"]\n",
    "\n",
    "# Calculate daily returns for 6 months\n",
    "daily_returns_6m = data_6m.pct_change().dropna()\n",
    "\n",
    "# Calculate daily returns for 12 months\n",
    "daily_returns_12m = data_12m.pct_change().dropna()\n",
    "\n",
    "# Calculate standard deviation for each stock for 6 months\n",
    "std_deviation_6m = daily_returns_6m.std()\n",
    "\n",
    "# Calculate standard deviation for each stock for 12 months\n",
    "std_deviation_12m = daily_returns_12m.std()\n",
    "\n",
    "# Rank the stocks by standard deviation\n",
    "ranked_6m = std_deviation_6m.sort_values(ascending=False)\n",
    "ranked_12m = std_deviation_12m.sort_values(ascending=False)\n",
    "\n",
    "# Display the ranked results\n",
    "print(\"\\nRanked by Standard Deviation (6 Months):\")\n",
    "print(ranked_6m)\n",
    "\n",
    "print(\"\\nRanked by Standard Deviation (12 Months):\")\n",
    "print(ranked_12m)\n",
    "\n",
    "# Save the ranked results to an Excel file\n",
    "output_file = \"stock_volatility_ranking.xlsx\"\n",
    "\n",
    "# Create a dictionary to store the ranked results\n",
    "results = {\n",
    "    \"6M Rank\": ranked_6m,\n",
    "    \"12M Rank\": ranked_12m\n",
    "}\n",
    "\n",
    "# Convert the dictionary to a DataFrame\n",
    "ranked_df = pd.DataFrame(results)\n",
    "\n",
    "# Save the DataFrame to Excel\n",
    "ranked_df.to_excel(output_file, sheet_name=\"Volatility Ranking\")\n",
    "\n",
    "print(f\"Ranked results saved to {output_file}\")\n",
    "\n"
   ],
   "outputs": [
    {
     "name": "stderr",
     "output_type": "stream",
     "text": [
      "[*********************100%***********************]  6 of 6 completed\n",
      "[*********************100%***********************]  6 of 6 completed"
     ]
    },
    {
     "name": "stdout",
     "output_type": "stream",
     "text": [
      "\n",
      "Ranked by Standard Deviation (6 Months):\n",
      "Ticker\n",
      "SM      0.026920\n",
      "HP      0.024129\n",
      "CEIX    0.024114\n",
      "LPG     0.023897\n",
      "MTDR    0.022006\n",
      "MUR     0.017942\n",
      "dtype: float64\n",
      "\n",
      "Ranked by Standard Deviation (12 Months):\n",
      "Ticker\n",
      "LPG     0.025607\n",
      "CEIX    0.025220\n",
      "SM      0.023369\n",
      "HP      0.022767\n",
      "MTDR    0.020332\n",
      "MUR     0.017226\n",
      "dtype: float64\n",
      "Ranked results saved to stock_volatility_ranking.xlsx\n"
     ]
    },
    {
     "name": "stderr",
     "output_type": "stream",
     "text": [
      "\n"
     ]
    }
   ],
   "execution_count": 203
  }
 ],
 "metadata": {
  "kernelspec": {
   "display_name": "Python 3",
   "language": "python",
   "name": "python3"
  },
  "language_info": {
   "codemirror_mode": {
    "name": "ipython",
    "version": 2
   },
   "file_extension": ".py",
   "mimetype": "text/x-python",
   "name": "python",
   "nbconvert_exporter": "python",
   "pygments_lexer": "ipython2",
   "version": "2.7.6"
  }
 },
 "nbformat": 4,
 "nbformat_minor": 5
}
